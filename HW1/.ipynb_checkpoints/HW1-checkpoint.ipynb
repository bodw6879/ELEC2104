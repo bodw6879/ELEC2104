{
 "cells": [
  {
   "cell_type": "code",
   "execution_count": 1,
   "metadata": {
    "collapsed": true
   },
   "outputs": [],
   "source": [
    "import numpy as np\n",
    "import matplotlib.pyplot as plt\n",
    "%matplotlib inline"
   ]
  },
  {
   "cell_type": "markdown",
   "metadata": {},
   "source": [
    "## Question 1\n",
    "\n",
    "<img src=\"Q1.png\">"
   ]
  },
  {
   "cell_type": "markdown",
   "metadata": {},
   "source": [
    "## Question 2\n",
    "\n",
    "<img src=\"Q2.png\">"
   ]
  },
  {
   "cell_type": "markdown",
   "metadata": {},
   "source": [
    "## Question 3\n",
    "\n",
    "<img src=\"Q3.png\">"
   ]
  },
  {
   "cell_type": "markdown",
   "metadata": {},
   "source": [
    "## Question 4\n",
    "\n",
    "<img src=\"Q4.png\">"
   ]
  },
  {
   "cell_type": "markdown",
   "metadata": {},
   "source": [
    "## Question 5\n",
    "\n",
    "<img src=\"Q5-2.png\">"
   ]
  },
  {
   "cell_type": "code",
   "execution_count": 2,
   "metadata": {
    "collapsed": false
   },
   "outputs": [
    {
     "data": {
      "text/plain": [
       "'A: 0.7952687990445917, R_th: 12753.307692307688 Ohms'"
      ]
     },
     "execution_count": 2,
     "metadata": {},
     "output_type": "execute_result"
    }
   ],
   "source": [
    "r_pi = 2611 # Ohms\n",
    "g_m = 1/26\n",
    "R_E = 100 # Ohms\n",
    "R_C = 3000 # Ohms\n",
    "\n",
    "# calculate the coefficient A\n",
    "A = (1/r_pi + g_m) / (1/R_E + 1/r_pi + g_m)\n",
    "\n",
    "# calculate R_th = v_1 / i_T\n",
    "R_th = r_pi / (1 - A) # Ohms\n",
    "\n",
    "\"A: \" + str(A) + \", R_th: \" + str(R_th) + \" Ohms\""
   ]
  },
  {
   "cell_type": "markdown",
   "metadata": {},
   "source": [
    "## Question 6\n",
    "\n",
    "<img src=\"Q6.png\">"
   ]
  },
  {
   "cell_type": "code",
   "execution_count": 3,
   "metadata": {
    "collapsed": false
   },
   "outputs": [
    {
     "data": {
      "text/plain": [
       "'B: 241.40319695231537, R_th: 25096.23287415736 Ohms'"
      ]
     },
     "execution_count": 3,
     "metadata": {},
     "output_type": "execute_result"
    }
   ],
   "source": [
    "r_pi = 2779 # Ohms\n",
    "g_m = 1/26\n",
    "R_E = 108 # Ohms\n",
    "r_0 = 5000 # Ohms\n",
    "\n",
    "# Calculate the coefficient B\n",
    "B = 1 + r_0 * g_m + r_0 / r_pi + r_0 / R_E\n",
    "\n",
    "# Calculate R_th = v_1 / i_T\n",
    "R_th = r_0 / (1 - 1/B - r_0 * g_m / B)\n",
    "\n",
    "\"B: \" + str(B) + \", R_th: \" + str(R_th) + \" Ohms\""
   ]
  },
  {
   "cell_type": "markdown",
   "metadata": {},
   "source": [
    "## Question 7\n",
    "\n",
    "<img src=\"Q7_1.png\">\n",
    "<img src=\"Q7_2.png\">"
   ]
  },
  {
   "cell_type": "code",
   "execution_count": 4,
   "metadata": {
    "collapsed": false
   },
   "outputs": [
    {
     "data": {
      "text/plain": [
       "'v_1: 11.2 V, v_0: 42.199999999999996 V'"
      ]
     },
     "execution_count": 4,
     "metadata": {},
     "output_type": "execute_result"
    }
   ],
   "source": [
    "v_a = 5   # V\n",
    "v_b = 14   # V\n",
    "R_a = 3000   # Ohms\n",
    "R_b = 15000   # Ohms\n",
    "R_c = 3000   # Ohms\n",
    "R_d = 12000   # Ohms\n",
    "\n",
    "# Calculate v_1\n",
    "v_1 = v_b / (1 + R_c/R_d)\n",
    "\n",
    "# Calculate v_0\n",
    "v_0 = (R_b / R_a) * (v_1 - v_a) + v_1\n",
    "\n",
    "\"v_1: \" + str(v_1) + \" V, v_0: \" + str(v_0) + \" V\""
   ]
  },
  {
   "cell_type": "markdown",
   "metadata": {},
   "source": [
    "## Extra Stuff\n",
    "\n",
    "Plotting output impedance against transconductance in question 6: "
   ]
  },
  {
   "cell_type": "code",
   "execution_count": 5,
   "metadata": {
    "collapsed": false
   },
   "outputs": [
    {
     "data": {
      "image/png": "[encoded data removed]",
      "text/plain": [
       "<matplotlib.figure.Figure at 0x729a160>"
      ]
     },
     "metadata": {},
     "output_type": "display_data"
    }
   ],
   "source": [
    "r_pi = 2611 # Ohms\n",
    "R_E = 100 # Ohms\n",
    "R_C = 3000 # Ohms\n",
    "\n",
    "def output_impedance(g_m):\n",
    "    \n",
    "    # calculate the coefficient A\n",
    "    A = (1/r_pi + g_m) / (1/R_E + 1/r_pi + g_m)\n",
    "\n",
    "    # calculate R_th = v_1 / i_T\n",
    "    R_th = r_pi / (1 - A) # Ohms\n",
    "    \n",
    "    return R_th\n",
    "\n",
    "g_m = np.linspace(0, 0.1, 1000)\n",
    "R_th = output_impedance(g_m)\n",
    "\n",
    "plt.plot(g_m, R_th)\n",
    "plt.show()"
   ]
  }
 ],
 "metadata": {
  "kernelspec": {
   "display_name": "Python 3",
   "language": "python",
   "name": "python3"
  },
  "language_info": {
   "codemirror_mode": {
    "name": "ipython",
    "version": 3
   },
   "file_extension": ".py",
   "mimetype": "text/x-python",
   "name": "python",
   "nbconvert_exporter": "python",
   "pygments_lexer": "ipython3",
   "version": "3.4.1"
  }
 },
 "nbformat": 4,
 "nbformat_minor": 0
}
