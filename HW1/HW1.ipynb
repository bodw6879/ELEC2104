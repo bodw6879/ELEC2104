{
 "cells": [
  {
   "cell_type": "markdown",
   "metadata": {},
   "source": [
    "## Question 1\n",
    "\n",
    "<img src=\"Q1.png\">"
   ]
  },
  {
   "cell_type": "markdown",
   "metadata": {},
   "source": [
    "## Question 2\n",
    "\n",
    "<img src=\"Q2.png\">"
   ]
  },
  {
   "cell_type": "markdown",
   "metadata": {},
   "source": [
    "## Question 3\n",
    "\n",
    "<img src=\"Q3.png\">"
   ]
  },
  {
   "cell_type": "markdown",
   "metadata": {},
   "source": [
    "## Question 4\n",
    "\n",
    "<img src=\"Q4.png\">"
   ]
  },
  {
   "cell_type": "markdown",
   "metadata": {},
   "source": [
    "## Question 5\n",
    "\n",
    "<img src=\"Q5.png\">"
   ]
  },
  {
   "cell_type": "code",
   "execution_count": 9,
   "metadata": {
    "collapsed": false
   },
   "outputs": [
    {
     "data": {
      "text/plain": [
       "'A: 0.7951711630015871, R_th: 13572.3076923077 Ohms'"
      ]
     },
     "execution_count": 9,
     "metadata": {},
     "output_type": "execute_result"
    }
   ],
   "source": [
    "r_pi = 2780 # Ohms\n",
    "g_m = 1/26\n",
    "R_E = 100 # Ohms\n",
    "R_C = 3000 # Ohms\n",
    "\n",
    "# calculate the coefficient A\n",
    "A = (1/r_pi + g_m) / (1/R_E + 1/r_pi + g_m)\n",
    "\n",
    "# calculate R_th = v_1 / i_T\n",
    "R_th = r_pi / (1 - A) # Ohms\n",
    "\n",
    "\"A: \" + str(A) + \", R_th: \" + str(R_th) + \" Ohms\""
   ]
  },
  {
   "cell_type": "markdown",
   "metadata": {},
   "source": [
    "## Question 6\n",
    "\n",
    "<img src=\"Q6.png\">"
   ]
  },
  {
   "cell_type": "code",
   "execution_count": 10,
   "metadata": {
    "collapsed": false
   },
   "outputs": [
    {
     "data": {
      "text/plain": [
       "'B: 243.37903102083396, R_th: 24303.227882037543 Ohms'"
      ]
     },
     "execution_count": 10,
     "metadata": {},
     "output_type": "execute_result"
    }
   ],
   "source": [
    "r_pi = 2507 # Ohms\n",
    "g_m = 1/26\n",
    "R_E = 104 # Ohms\n",
    "r_0 = 5000 # Ohms\n",
    "\n",
    "# Calculate the coefficient B\n",
    "B = 1 + r_0 * g_m + r_0 / r_pi + r_0 / R_E\n",
    "\n",
    "# Calculate R_th = v_1 / i_T\n",
    "R_th = r_0 / (1 - 1/B - r_0 * g_m / B)\n",
    "\n",
    "\"B: \" + str(B) + \", R_th: \" + str(R_th) + \" Ohms\""
   ]
  },
  {
   "cell_type": "markdown",
   "metadata": {},
   "source": [
    "## Question 7\n",
    "\n",
    "<img src=\"Q7_1.png\">\n",
    "<img src=\"Q7_2.png\">"
   ]
  },
  {
   "cell_type": "code",
   "execution_count": 12,
   "metadata": {
    "collapsed": false
   },
   "outputs": [
    {
     "data": {
      "text/plain": [
       "'v_1: 11.2 V, v_0: 44.8 V'"
      ]
     },
     "execution_count": 12,
     "metadata": {},
     "output_type": "execute_result"
    }
   ],
   "source": [
    "v_a = 4   # V\n",
    "v_b = 14   # V\n",
    "R_a = 3000   # Ohms\n",
    "R_b = 14000   # Ohms\n",
    "R_c = 3000   # Ohms\n",
    "R_d = 12000   # Ohms\n",
    "\n",
    "# Calculate v_1\n",
    "v_1 = v_b / (1 + R_c/R_d)\n",
    "\n",
    "# Calculate v_0\n",
    "v_0 = (R_b / R_a) * (v_1 - v_a) + v_1\n",
    "\n",
    "\"v_1: \" + str(v_1) + \" V, v_0: \" + str(v_0) + \" V\""
   ]
  }
 ],
 "metadata": {
  "kernelspec": {
   "display_name": "Python 3",
   "language": "python",
   "name": "python3"
  },
  "language_info": {
   "codemirror_mode": {
    "name": "ipython",
    "version": 3
   },
   "file_extension": ".py",
   "mimetype": "text/x-python",
   "name": "python",
   "nbconvert_exporter": "python",
   "pygments_lexer": "ipython3",
   "version": "3.4.1"
  }
 },
 "nbformat": 4,
 "nbformat_minor": 0
}
