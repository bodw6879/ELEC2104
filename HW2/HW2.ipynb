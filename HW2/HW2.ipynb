{
 "cells": [
  {
   "cell_type": "markdown",
   "metadata": {},
   "source": [
    "# ELEC2104 Homework 2"
   ]
  },
  {
   "cell_type": "markdown",
   "metadata": {},
   "source": [
    "A 2-micron long block of p-type silicon has a cross-sectional area of 1 micron by 1 micron. Electrons are injected from the left and holes are injected from the right in the following densities:\n",
    "\n",
    "$$ n = 7\\times10^{16} \\:cm^{-3},\\: p = 3 \\times 10^{16} \\:cm^{-3} $$"
   ]
  },
  {
   "cell_type": "markdown",
   "metadata": {},
   "source": [
    "## Question 1\n",
    "\n",
    "Which of the following are components of the total current?\n",
    "\n",
    "### Solution\n",
    "\n",
    "No electric field is mentioned, so only hole diffusion and electron diffusion are components of the total current."
   ]
  },
  {
   "cell_type": "markdown",
   "metadata": {},
   "source": [
    "## Question 2\n",
    "\n",
    "With thermal voltage $V_T = 0.0258 \\:V$ and an electron mobility of $1320 \\:cm^2 \\:V_s^{-1} $, what is the electron diffusion coefficient $D_n$ in $cm^2 \\:s^{-1} $?\n",
    "\n",
    "### Solution\n",
    "\n",
    "Use the Einstein relation $D_n = \\mu_n V_T$ ([chapter 4](https://elearning.sydney.edu.au/bbcswebdav/pid-3124342-dt-content-rid-15533922_1/courses/2015_S2C_ELEC2104_ND/Lectures/Ch4new.pdf), slide 23)."
   ]
  },
  {
   "cell_type": "code",
   "execution_count": 1,
   "metadata": {
    "collapsed": false
   },
   "outputs": [
    {
     "name": "stdout",
     "output_type": "stream",
     "text": [
      "Electron diffusion coefficient: 34.056 cm^2 / s\n"
     ]
    }
   ],
   "source": [
    "V_T = 0.0258   # V\n",
    "n_mobility = 1320   # cm^2 / V_s\n",
    "D_n = n_mobility * V_T   # cm^2 / s\n",
    "\n",
    "print('Electron diffusion coefficient: %g cm^2 / s' % D_n)"
   ]
  },
  {
   "cell_type": "markdown",
   "metadata": {},
   "source": [
    "## Question 3\n",
    "\n",
    "With hole mobility of $465 \\:cm^2 \\:V_s^{-1}$, what is the total hole drift current in microamps?\n",
    "\n",
    "### Solution\n",
    "\n",
    "No electric field is mentioned, which is required for drift current - so the total drift current is 0."
   ]
  },
  {
   "cell_type": "markdown",
   "metadata": {},
   "source": [
    "## Question 4\n",
    "\n",
    "If we define current as positive when flowing in the positive x direction, what is the total current through this bar of silicon in microamps?\n",
    "\n",
    "### Solution\n",
    "\n",
    "We have $n(0) = 7\\times10^{16} \\:cm^{-3} $, $n(l) = 0$, $p(0) = 0$, and $p(l) = 3\\times10^{16} \\:cm^{-3}$.\n",
    "\n",
    "From the given picture, the concentration of both electrons and holes varies linearly over the length of the material - so the gradients of the conduction electron concentration and the hole carrier concentration are:\n",
    "\n",
    "$$ \\frac {dn} {dx} = -\\frac {n(0)} {l}, \\: \\frac {dp} {dx} = \\frac {p(l)} {l} $$\n",
    "\n",
    "So that the total diffusion current density is:\n",
    "\n",
    "$$ J^T = J^T_n + J^T_p = qD_n\\frac {dn} {dx} - qD_p \\frac {dn} {dx}  = -qD_n \\frac {n(0)} {l} - qD_p \\frac {p(l)} {l} $$\n",
    "\n",
    "The current is then $i = J^TA$.\n"
   ]
  },
  {
   "cell_type": "code",
   "execution_count": 2,
   "metadata": {
    "collapsed": false
   },
   "outputs": [
    {
     "name": "stdout",
     "output_type": "stream",
     "text": [
      "Total current: -21.9805 microamps\n"
     ]
    }
   ],
   "source": [
    "q = 1.60217657e-19   # C - in the lecture slides, the value of q is always positive\n",
    "n_0 = 7e+16   # cm^-3\n",
    "p_l = 3e+16   # cm^-3\n",
    "l = 2e-4   # length in cm\n",
    "A = (1e-4) ** 2   # cross-sectional area in cm^2\n",
    "\n",
    "# from Q2,\n",
    "V_T = 0.0258   # \n",
    "D_n = 34.056   # cm^2 / s\n",
    "\n",
    "# from Q3,\n",
    "p_mobility = 465   # cm^2 V^-1\n",
    "D_p = p_mobility * V_T \n",
    "\n",
    "# calculate the total diffusion current density\n",
    "J_total = -q * D_n * n_0 / l - q * D_p * p_l / l\n",
    "\n",
    "i_total = J_total * A\n",
    "\n",
    "print('Total current: %g microamps' % (i_total * 1e+6))"
   ]
  },
  {
   "cell_type": "markdown",
   "metadata": {},
   "source": [
    "## Question 5\n",
    "\n",
    "An electric field of $0.08 \\:V \\:\\mu m^{-1}$ is applied to an n-type piece of silicon. What is the velocity of electrons in this material in m/s? Specify your answer to 2 decimal places. Use $\\mu_n = 1350 \\: cm^2 \\: V_s^{-1} $. "
   ]
  },
  {
   "cell_type": "code",
   "execution_count": 3,
   "metadata": {
    "collapsed": false
   },
   "outputs": [
    {
     "name": "stdout",
     "output_type": "stream",
     "text": [
      "Velocity: 9450 m/s\n"
     ]
    }
   ],
   "source": [
    "# first convert everything to SI units\n",
    "E = 0.07e+6   # m^-1\n",
    "n_mobility = 1350 * (0.01 ** 2)   # m^2 V ^ -1\n",
    "\n",
    "velocity = n_mobility * E   # m / s\n",
    "\n",
    "print('Velocity: %g m/s' % velocity)"
   ]
  },
  {
   "cell_type": "markdown",
   "metadata": {},
   "source": [
    "## Question 6\n",
    "\n",
    "An electric field of $0.1 \\: V \\: \\mu m^{-1} $ is applied to an n-type piece of silicon. What doping level is necessary to provide a current density of $2.23 \\: mA \\: \\mu m^{-2} $? Express your answer in doping levels per cubic cm to 3 significant figures. You can use scientific notation for your answer. For example 10000 = 1e4. Use 1.6e-19 C for the charge of an electron and $\\mu_n = 1350 \\: cm^2 \\: (Vs) ^{-1} $.\n",
    "\n",
    "### Solution\n",
    "\n",
    "For n-type silicon we have $n = N_D$, and $J = q\\mu_nnE$, so $N_D = \\frac {J} {q\\mu_n E}$."
   ]
  },
  {
   "cell_type": "code",
   "execution_count": 4,
   "metadata": {
    "collapsed": false
   },
   "outputs": [
    {
     "name": "stdout",
     "output_type": "stream",
     "text": [
      "Donor doping level/concentration: 8.75e+17\n"
     ]
    }
   ],
   "source": [
    "# convert everything to SI\n",
    "q = 1.6e-19   # C\n",
    "E = 0.1 / 1e-6   # V / m\n",
    "J = 1.89 * 1e-3 / (1e-6 ** 2)   # A / m^2\n",
    "n_mobility = 1350 * (1e-2 ** 2)   # m^2 / Vs\n",
    "\n",
    "N_D = J / (q * n_mobility * E)   # m^-3\n",
    "\n",
    "print('Donor doping level/concentration: %g' % (N_D * (1e-2 ** 3)))"
   ]
  }
 ],
 "metadata": {
  "kernelspec": {
   "display_name": "Python 3",
   "language": "python",
   "name": "python3"
  },
  "language_info": {
   "codemirror_mode": {
    "name": "ipython",
    "version": 3
   },
   "file_extension": ".py",
   "mimetype": "text/x-python",
   "name": "python",
   "nbconvert_exporter": "python",
   "pygments_lexer": "ipython3",
   "version": "3.4.1"
  }
 },
 "nbformat": 4,
 "nbformat_minor": 0
}
