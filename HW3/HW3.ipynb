{
 "cells": [
  {
   "cell_type": "code",
   "execution_count": 1,
   "metadata": {
    "collapsed": true
   },
   "outputs": [],
   "source": [
    "import numpy as np\n",
    "import matplotlib.pyplot as plt\n",
    "import mpld3\n",
    "import scipy.optimize as opt\n",
    "from IPython.display import display, HTML\n",
    "\n",
    "%matplotlib inline\n",
    "mpld3.enable_notebook()"
   ]
  },
  {
   "cell_type": "markdown",
   "metadata": {},
   "source": [
    "# ELEC2104 Homework 3"
   ]
  },
  {
   "cell_type": "markdown",
   "metadata": {},
   "source": [
    "## Question 1\n",
    "\n",
    "A junction in a silicon semiconductor employs $N_D = 6.48\\times10^{17} \\: cm^{-3}$ and $N_A = 3.13\\times10^{16} \\: cm^{-3}$. What is the minority carrier concentration on the $N_D$ side of the junction in $cm^{-3}$? Assume $n_i = 1.08\\times10^{10} \\: cm^{-3}$. Specify your answer to 1 decimal place. \n",
    "\n",
    "### Solution\n",
    "\n",
    "The minority carriers are the carriers on the opposite sides - in the p region it's $n_p$ (concentration of conducting electrons outside the depletion region in the p-type silicon) and in the n region it's $p_n$ (concentration of holes outside the depletion region in the n-type silicon).\n",
    "\n",
    "Use [Chapter 6](https://elearning.sydney.edu.au/bbcswebdav/pid-3132644-dt-content-rid-15555328_1/courses/2015_S2C_ELEC2104_ND/Lectures/Ch6new.pdf), slide 7. Since $n_n = N_D$ and $p_p = N_A$:\n",
    "\n",
    "$$ V_{bi} = \\frac {U_T} {q} ln(\\frac {n_n p_p} {n_i^2}) \\implies n_i^2 = n_n n_p e^{-V_{bi} q / U_T} $$ \n",
    "\n",
    "Also, using the law of mass action ($n_n p_n = n_i^2 = n_p p_p$):\n",
    "\n",
    "$$ n_p = n_n e^{-V_{bi} q / U_T} $$\n",
    "$$ p_n = p_p e^{-V_{bi} q / U_T} $$\n",
    "\n",
    "Using the fact that $ \\frac {q V_{bi}} {U_T} = ln(\\frac {n_n n_p} {n_i^2}) $, we get:\n",
    "\n",
    "$$ n_p = \\frac {n_i^2} {p_p} $$\n",
    "\n",
    "$$ p_n = \\frac {n_i^2} {n_n} $$\n",
    "\n",
    "The $N_D$ side is the donor-doped side, i.e. the n-type side - so the minority carrier is $p_n$."
   ]
  },
  {
   "cell_type": "code",
   "execution_count": 2,
   "metadata": {
    "collapsed": false
   },
   "outputs": [
    {
     "name": "stdout",
     "output_type": "stream",
     "text": [
      "The minority carrier concentration on the N_D side of the junction is: 180 cm^-3\n"
     ]
    }
   ],
   "source": [
    "N_D = 6.48e17   # cm^-3\n",
    "N_A = 3.13e16   # cm^-3\n",
    "n_i = 1.08e10   # cm^-3\n",
    "\n",
    "p_n = n_i ** 2 / N_D\n",
    "\n",
    "print('The minority carrier concentration on the N_D side of the junction is: %g cm^-3' % p_n)"
   ]
  },
  {
   "cell_type": "markdown",
   "metadata": {},
   "source": [
    "## Question 2\n",
    "\n",
    "A junction in a silicon semiconductor employs $N_D = 6.48 \\times 10^{17} \\: cm^{-3}$ and $N_A = 3.13 \\times 10^{16} \\: cm^{-3}$. What is the minority carrier concentration on the $N_A$ side of the junction in units of $cm^{-3}$? Specify your answer to one decimal place. \n",
    "\n",
    "### Solution\n",
    "\n",
    "Same as above, but find $n_p$ instead."
   ]
  },
  {
   "cell_type": "code",
   "execution_count": 3,
   "metadata": {
    "collapsed": false
   },
   "outputs": [
    {
     "name": "stdout",
     "output_type": "stream",
     "text": [
      "The minority carrier concentration on the N_A side of the junction is: 3726.52 cm^-3\n"
     ]
    }
   ],
   "source": [
    "N_D = 6.48e17   # cm^-3\n",
    "N_A = 3.13e16   # cm^-3\n",
    "n_i = 1.08e10   # cm^-3\n",
    "\n",
    "n_p = n_i ** 2 / N_A\n",
    "\n",
    "print('The minority carrier concentration on the N_A side of the junction is: %g cm^-3' % n_p)"
   ]
  },
  {
   "cell_type": "markdown",
   "metadata": {},
   "source": [
    "## Question 3\n",
    "\n",
    "A junction in a silicon semiconductor employs $N_D = 6.48 \\times 10^{17} \\: cm^{-3}$ and $N_A = 3.13 \\times 10^{16} \\: cm^{-3}$. Calculate the built-in potential at $T = 300 \\: K$, in $mV$. Note that the Boltzmann constant is $1.3807e-23 \\: J/K$. Specify your answer to one decimal place. \n",
    "\n",
    "### Solution\n",
    "\n",
    "Use  $$ V_{bi} = V_Tln(\\frac {N_A N_D} {n_i^2}) $$ where $$ V_T = \\frac {k_B T} {q} $$"
   ]
  },
  {
   "cell_type": "code",
   "execution_count": 4,
   "metadata": {
    "collapsed": false
   },
   "outputs": [
    {
     "name": "stdout",
     "output_type": "stream",
     "text": [
      "The built-in potential is 0.847702 V\n"
     ]
    }
   ],
   "source": [
    "k_B = 1.3807e-23   # Boltzmann, J / K\n",
    "N_D = 6.48e17   # cm^-3\n",
    "N_A = 3.13e16   # cm^-3\n",
    "n_i = 1.08e10   # cm^-3 - from question 1\n",
    "q = 1.60218e-19   # C\n",
    "T = 300   # K\n",
    "\n",
    "V_T = k_B * T / q\n",
    "\n",
    "V_bi = V_T * np.log( N_A * N_D / ( n_i ** 2 ) )\n",
    "\n",
    "print('The built-in potential is %g V' % V_bi)"
   ]
  },
  {
   "cell_type": "markdown",
   "metadata": {},
   "source": [
    "## Question 4\n",
    "\n",
    "What is the zero-bias junction capacitance per $cm^2$ for a diode with $N_A = 10^{18} \\: cm^{-3}$ on the p-type side and $N_D = 10^{15} \\: cm^{-3} $ on the n-type side? Assume $T = 300 \\: K$. The relative permittivity of silicon $\\epsilon_r = 11.7$, permittivity of free space is $\\epsilon_0 = 8.854\\times10^{-14} \\: F/cm$. Thus $\\epsilon_s = \\epsilon_r \\times \\epsilon_0$. The junction capacitance with no reverse bias is given by $C_{j0} = \\epsilon_s / W_{d0}$, where $W_{d0}$ is the depletion width with no reverse bias. \n",
    "\n",
    "### Solution\n",
    "\n",
    "First calculate the built-in voltage as in Question 3, then calculate the zero-bias depletion width:\n",
    "\n",
    "$$ W_{d0} = \\sqrt { \\frac {2\\epsilon_S} {q} (\\frac {1} {N_A} + \\frac {1} {N_D}) V_{bi} } $$\n",
    "\n",
    "Then calculate the zero bias capacitance: $$ C_{j0} = \\frac {\\epsilon_S} {W_{d0}} $$."
   ]
  },
  {
   "cell_type": "code",
   "execution_count": 5,
   "metadata": {
    "collapsed": false
   },
   "outputs": [
    {
     "name": "stdout",
     "output_type": "stream",
     "text": [
      "The zero-bias junction capacitance is: 1.0377e-08 F/cm^2\n",
      "In nF/cm^2, this is: 10.377 nF/cm^2\n"
     ]
    }
   ],
   "source": [
    "k_B = 1.3807e-23   # Boltzmann, J / K\n",
    "N_A = 1e18   # cm^-3\n",
    "N_D = 1e15   # cm^-3\n",
    "T = 300   # K\n",
    "permittivity_S = 11.7 * 8.854e-14   # F / cm\n",
    "n_i = 1.08e10   # cm^-3\n",
    "q = 1.60218e-19   # C\n",
    "\n",
    "V_T = k_B * T / q   # V\n",
    "\n",
    "V_bi = V_T * np.log( N_A * N_D / (n_i ** 2) )   # V\n",
    "\n",
    "W_d0 = np.sqrt( (2 * permittivity_S / q) * (1/N_A + 1/N_D) * V_bi )   # cm\n",
    "\n",
    "C_j0 = permittivity_S / W_d0   # F / cm^2\n",
    "\n",
    "print('The zero-bias junction capacitance is: %g F/cm^2' % C_j0)\n",
    "print('In nF/cm^2, this is: %g nF/cm^2' % (C_j0 * 1e+9))"
   ]
  },
  {
   "cell_type": "markdown",
   "metadata": {},
   "source": [
    "## Question 5\n",
    "\n",
    "A pn junction with $N_D = 9\\times10^{16} \\: cm^{-3}$ and $N_A = 4\\times10^{15} \\: cm^{-3}$ experiences a reverse bias voltage of $1.6 \\: V$. It is also given that $n_i = 1.08 \\times 10^{10} \\: cm^{-3}$, the relative permittivity of silicon is $\\epsilon_r = 11.7$, and the permittivity of free space is $\\epsilon_0 = 8.854\\times10^{-14} \\: F/cm$. Thus $\\epsilon_S = \\epsilon_r \\times \\epsilon_0$. The junction capacitance with no reverse bias is given by $C_{j0} = \\epsilon_S / W_{d0}$, where $W_{d0}$ is the depletion width with no reverse bias. With reverse bias the junction width becomes $W_d = W_{d0} \\sqrt {1 + V_r / V_{bi}}$. What is the junction capacitance per unit area in terms of $fF/\\mu m^2$? \n",
    "\n",
    "### Solution\n",
    "\n",
    "First find the built-in voltage as in Question 3, then calculate the depletion width under the given reverse bias voltage:\n",
    "\n",
    "$$ W_d = \\sqrt { \\frac {2\\epsilon_S} {q} (\\frac {1} {N_A} + \\frac {1} {N_D}) (V_{bi} + V_R) } $$\n",
    "\n",
    "Then calculate the junction capacitance with:\n",
    "\n",
    "$$ C_j = \\frac {\\epsilon_S} {W_d} $$\n",
    "\n",
    "."
   ]
  },
  {
   "cell_type": "code",
   "execution_count": 6,
   "metadata": {
    "collapsed": false
   },
   "outputs": [
    {
     "name": "stdout",
     "output_type": "stream",
     "text": [
      "The reverse-biased junction capacitance is: 1.16456e-08 F/cm^2\n",
      "In fF/um^2, this is: 0.116456 fF/um^2\n"
     ]
    }
   ],
   "source": [
    "k_B = 1.3807e-23   # Boltzmann, J / K\n",
    "N_A = 4e15   # cm^-3\n",
    "N_D = 9e16   # cm^-3\n",
    "V_R = 1.6   # V\n",
    "T = 300   # K\n",
    "permittivity_S = 11.7 * 8.854e-14   # F / cm\n",
    "n_i = 1.08e10   # cm^-3\n",
    "q = 1.60218e-19   # C\n",
    "\n",
    "V_T = k_B * T / q   # V\n",
    "\n",
    "V_bi = V_T * np.log( N_A * N_D / (n_i ** 2) )   # V\n",
    "\n",
    "W_d = np.sqrt( (2 * permittivity_S / q) * (1/N_A + 1/N_D) * (V_bi + V_R) )   # cm\n",
    "\n",
    "C_j = permittivity_S / W_d   # F / cm^2\n",
    "\n",
    "print('The reverse-biased junction capacitance is: %g F/cm^2' % C_j)\n",
    "print('In fF/um^2, this is: %g fF/um^2' % (C_j * 1e+15 / (1e+4 ** 2)))"
   ]
  },
  {
   "cell_type": "markdown",
   "metadata": {},
   "source": [
    "## Question 6\n",
    "\n",
    "In the given circuit, determine the value of $R_1$ such that this resistor carries $0.54 \\: mA$ of current. Assume $I_S = 5\\times10^{-16} \\: A$ for each diode, $V_T = 0.026 \\: V$. Specify your answer in kOhms to two decimal places.\n",
    "\n",
    "<img src='fig1.png' width=30%>\n",
    "\n",
    "### Solution\n",
    "\n",
    "Let $i_R$ be the current through the resistor oriented downwards and let $i_D$ be the current through the diode branch oriented downwards. By KCL, $i_D = I_X - i_R$, and by KVL, $i_R R_1 = 2 V_T ln(i_D/I_S + 1)$ (from the diode voltage-current relationship). So:\n",
    "\n",
    "$$ R_1 = 2 \\frac {V_T} {i_R} ln(\\frac {I_X - i_R} {I_S} + 1) $$"
   ]
  },
  {
   "cell_type": "code",
   "execution_count": 7,
   "metadata": {
    "collapsed": false
   },
   "outputs": [
    {
     "name": "stdout",
     "output_type": "stream",
     "text": [
      "The resistance is: 2.87363 kOhms\n"
     ]
    }
   ],
   "source": [
    "V_T = 0.026   # V\n",
    "i_R = 0.5e-3   # A\n",
    "I_X = 1e-3   # A\n",
    "I_S = 5e-16   # A\n",
    "\n",
    "R = 2 * V_T / i_R * np.log( (I_X - i_R) / I_S + 1 )\n",
    "\n",
    "print('The resistance is: %g kOhms' % (R * 1e-3))"
   ]
  },
  {
   "cell_type": "markdown",
   "metadata": {},
   "source": [
    "## Question 7\n",
    "\n",
    "In the given circuit, calculate the voltage across $R_1$ for $I_X = 2.25 \\: mA$ of current. Assume $I_S = 5\\times10^{16} \\: A$ for each diode, and $V_T = 0.026 \\: V$. Specify your answer in Volts to three decimal places. Please note that the circuit equation that you must solve is non-linear.\n",
    "\n",
    "<img src='fig2.png' width=30%>\n",
    "\n",
    "### Solution\n",
    "\n",
    "The same reasoning from Question 6 applies, so we have:\n",
    "\n",
    "$$ R_1 = 2 \\frac {V_T} {i_R} ln( \\frac {I_X - i_R} {I_S} + 1) $$\n",
    "\n",
    "We need to solve for $i_R$, so that we can calculate the voltage as $i_R R_1$ - but $i_R$ cannot be found analytically, so we need to do some numerical optimization. Define a cost function as: \n",
    "\n",
    "$$ cost(i_R) = i_R R_1 - 2 V_T ln( \\frac {I_X - i_R} {I_S} + 1) $$\n",
    "\n",
    "We need to find the value $i_R^*$ so that $cost(i_R^*) = 0$; cost is continuous and has continuous first derivative, so use Newton's method: \n",
    "<br><br>"
   ]
  },
  {
   "cell_type": "code",
   "execution_count": 9,
   "metadata": {
    "collapsed": false
   },
   "outputs": [
    {
     "name": "stdout",
     "output_type": "stream",
     "text": [
      "The current through the resistor is: 0.000729645 A\n",
      "The voltage across the resistor is: 1.45929 V\n"
     ]
    }
   ],
   "source": [
    "V_T = 0.026   # V\n",
    "I_X = 1.5e-3   # A\n",
    "I_S = 5e-16   # A\n",
    "R_1 = 2e+3   # Ohms\n",
    "\n",
    "def cost(i_R):\n",
    "    return (i_R * R_1 - 2 * V_T * np.log( (I_X - i_R) / I_S + 1 ))\n",
    "\n",
    "i_R_optimal = opt.newton(cost, 0.0007)\n",
    "\n",
    "v_R = i_R_optimal * R_1   # V\n",
    "\n",
    "print('The current through the resistor is: %g A' % i_R_optimal)\n",
    "print('The voltage across the resistor is: %g V' % v_R)"
   ]
  }
 ],
 "metadata": {
  "kernelspec": {
   "display_name": "Python 3",
   "language": "python",
   "name": "python3"
  },
  "language_info": {
   "codemirror_mode": {
    "name": "ipython",
    "version": 3
   },
   "file_extension": ".py",
   "mimetype": "text/x-python",
   "name": "python",
   "nbconvert_exporter": "python",
   "pygments_lexer": "ipython3",
   "version": "3.4.1"
  }
 },
 "nbformat": 4,
 "nbformat_minor": 0
}
