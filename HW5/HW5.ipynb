{
 "cells": [
  {
   "cell_type": "code",
   "execution_count": 5,
   "metadata": {
    "collapsed": true
   },
   "outputs": [],
   "source": [
    "import numpy as np\n",
    "import matplotlib.pyplot as plt\n",
    "\n",
    "%matplotlib inline"
   ]
  },
  {
   "cell_type": "markdown",
   "metadata": {},
   "source": [
    "# ELEC2104 Homework 5\n",
    "\n",
    "## Question 1 Solution\n",
    "\n",
    "For a full-wave bridge rectifier we have $V_r = \\frac {1} {2} \\frac {V_p - 2V_{on}} {R}\\frac {T} {C} = I_{DC} \\frac {T} {2C}$. Since we require $\\frac {V_r} {V_{in}} \\leq 0.025$, choose $V_r = 0.025V_{in}$. Also, $T = \\frac {1} {f}$, so that we have:\n",
    "\n",
    "$$ C = \\frac {I_{DC}} {0.025 \\times 2fV_{in}} \\approx 0.36 \\: F$$"
   ]
  },
  {
   "cell_type": "markdown",
   "metadata": {
    "collapsed": true
   },
   "source": [
    "## Question 2\n",
    "\n",
    "What is the PIV rating (in V) for the diodes that will be used in this DC power supply? PIV refers to the peak inverse voltage that will be seen across the diodes. Assume $V_{on} = 1 \\: V$.\n",
    "\n",
    "### Solution\n",
    "\n",
    "Our full-wave bridge rectifier circuit is:\n",
    "\n",
    "<img src='1.png' width=50% />\n",
    "\n",
    "If we do nodal analysis when the rectifier circuit is at a peak input voltage, say $V_p$, we get:\n",
    "\n",
    "<img src='2.png' width=50% />\n",
    "\n",
    "Taking the voltages across the OFF diodes we see:\n",
    "\n",
    "$$V_{D_1} = V_{D_2} = -V_{out} - V_{on} = -4.3 \\: V$$\n",
    "\n",
    "So the peak inverse voltage for the diodes in this circuit is $4.3 \\: V$\n",
    "\n",
    "<br>"
   ]
  },
  {
   "cell_type": "markdown",
   "metadata": {},
   "source": [
    "## Question 3\n",
    "\n",
    "The power supply will be connected to a 240 V, 50 Hz supply, so the input will need to be stepped down with a transformer. What is the RMS value of the output transformer voltage required for the rectifier? Use $V_{on} = 1 \\: V$.\n",
    "\n",
    "### Solution\n",
    "\n",
    "Refer to the second diagram in Question 2: using KVL, we get $V_p - V_{on} - V_{out} - V_{on} = 0 \\implies V_p = V_{out} + 2V_{on}$ - so the required voltage is $V_p = 3.3 + 2\\times1 = 5.3 \\: V$. Since this voltage will be a sine wave, the RMS value is:\n",
    "\n",
    "$$V_{pRMS} = \\frac {5.3} {\\sqrt{2}} = 3.75 \\: V$$"
   ]
  },
  {
   "cell_type": "markdown",
   "metadata": {},
   "source": [
    "## Question 4\n",
    "\n",
    "What is the value of the peak repetitive diode current?\n",
    "\n",
    "### Solution\n",
    "\n",
    "First calculate the conduction interval (remembering that $V_p = V_{out} + 2V_{on}$):\n",
    "\n",
    "$$ \\Delta T = \\frac {1} {\\omega} \\sqrt {\\frac {2V_r} {V_p}} $$\n",
    "\n",
    "then calculate the peak repetitive diode current as:\n",
    "\n",
    "$$ I_p = I_{DC} \\frac {T} {\\Delta T} $$\n",
    "\n",
    "<br>"
   ]
  },
  {
   "cell_type": "code",
   "execution_count": 3,
   "metadata": {
    "collapsed": false
   },
   "outputs": [
    {
     "name": "stdout",
     "output_type": "stream",
     "text": [
      "0.082500000825\n",
      "Peak repetitive diode current is: 106.831 A\n"
     ]
    }
   ],
   "source": [
    "# enter values from previous part\n",
    "I_DC = 3.0   # A\n",
    "V_out = 3.3   # V\n",
    "V_on = 1   # V\n",
    "V_p = V_out + 2 * V_on   # V\n",
    "f = 50   # Hz\n",
    "T = 1 / f\n",
    "C = 0.36363636   # F\n",
    "V_r = I_DC * T / (2 * C)\n",
    "omega = 2 * np.pi * f\n",
    "\n",
    "DT = (1 / omega) * np.sqrt(2 * V_r / V_p)\n",
    "\n",
    "I_p = I_DC * T / DT \n",
    "\n",
    "print(V_r)\n",
    "print(\"Peak repetitive diode current is: %g A\" % I_p)"
   ]
  },
  {
   "cell_type": "markdown",
   "metadata": {},
   "source": [
    "## Question 5\n",
    "\n",
    "The surge current can be found with $I_{SC} = \\omega C V_p$. So using the previously calculated values (and since ($\\omega = 2\\pi f$): \n",
    "\n",
    "$$ I_{SC} = 2\\pi f C V_p = 2\\pi \\times 50 \\times 0.36363636 \\times 5.3 \\: A \\approx 605.5 \\: A $$"
   ]
  },
  {
   "cell_type": "markdown",
   "metadata": {},
   "source": [
    "## Question 6\n",
    "\n",
    "In the circuit shown, assume $I_{in} = I_0cos(\\omega t)$ and that $I_0 = 2.3 \\: \\textrm{mA}$. Given $R_1 = 9 \\: \\textrm{kOhms}$, the diode turn-on voltage is $0.8 \\: \\textrm{V}$, and that $V_B = 3.3 \\: \\textrm{V}$, what is the minimum value of $V_{out}$? \n",
    "\n",
    "<img src='3.png' width=40% />\n",
    "\n",
    "### Solution\n",
    "\n",
    "The minimum output voltage is going to occur at one of the extremes of the input (ie at either $I_{in} = -2.3$ or $I_{in} = 2.3$). Without calculating both, we can see that the minimum will occur in the first case, because the current will be going in a direction such that the voltage across the resistor will oppose the constant voltage source above it, reducing the output voltage. In this case the diode is OFF, so nodal analysis gives:\n",
    "\n",
    "<img src='4.png' width=50% />\n",
    "\n",
    "So the minimum output voltage is:\n",
    "\n",
    "$$ V_{\\textrm{out min}} = V_B - I_{0} R_1 $$\n",
    "\n",
    "where $I_{0}$ is the magnitude of the current input sine wave.\n",
    "\n",
    "<br>"
   ]
  },
  {
   "cell_type": "code",
   "execution_count": 17,
   "metadata": {
    "collapsed": false
   },
   "outputs": [
    {
     "name": "stdout",
     "output_type": "stream",
     "text": [
      "minimum output voltage is: -9.5 V\n"
     ]
    }
   ],
   "source": [
    "I_0 = 2e-3   # A\n",
    "R_1 = 7e+3   # Ohms\n",
    "V_B = 4.5   # V\n",
    "\n",
    "V_out_min = V_B - I_0 * R_1\n",
    "\n",
    "print('minimum output voltage is: %g V' % V_out_min)"
   ]
  },
  {
   "cell_type": "markdown",
   "metadata": {},
   "source": [
    "## Question 7\n",
    "\n",
    "In the circuit shown, assume $I_{in} = I_0cos(\\omega t)$ and that $I_0 = 1.5 \\: \\textrm{mA}$. Given $R_1 = 8 \\: \\textrm{kOhms}$, the diode turn-on voltage is $0.8 \\: \\textrm{V}$, and that $V_B = 3.7 \\: \\textrm{V}$, what is the maximum value of $V_{out}$? \n",
    "\n",
    "<img src='3.png' width=40% />\n",
    "\n",
    "### Solution\n",
    "\n",
    "From the previous question we know that the maximum will occur at the maximum current input. Assuming the diode will be ON and doing the nodal analysis:\n",
    "\n",
    "<img src='5.png' width=45% />\n",
    "\n",
    "So the maximum output voltage is: \n",
    "\n",
    "$$ V_{\\textrm{out max}} = V_B + V_{on} $$\n",
    "\n",
    "<br>"
   ]
  },
  {
   "cell_type": "code",
   "execution_count": 20,
   "metadata": {
    "collapsed": false,
    "scrolled": true
   },
   "outputs": [
    {
     "name": "stdout",
     "output_type": "stream",
     "text": [
      "maximum output voltage is: 4.5 V\n"
     ]
    }
   ],
   "source": [
    "I_0 = 2.2e-3   # A\n",
    "R_1 = 7e+3   # Ohms\n",
    "V_B = 3.7   # V\n",
    "V_on = 0.8   # V\n",
    "\n",
    "V_out_max = V_B + V_on\n",
    "\n",
    "print('maximum output voltage is: %g V' % V_out_max)"
   ]
  },
  {
   "cell_type": "markdown",
   "metadata": {},
   "source": [
    "## Question 8\n",
    "\n",
    "In the circuit shown, assume $I_{in} = I_0cos(\\omega t)$ and that $I_0 = 2 \\: \\textrm{mA}$. Given $R_1 = 6 \\: \\textrm{kOhms}$, the diode turn-on voltage is $0.8 \\: \\textrm{V}$, and that $V_B = 3.7 \\: \\textrm{V}$, at what input current value does the output voltage start to be clipped by the diode?\n",
    "\n",
    "**(note flipped diode!)**\n",
    "\n",
    "<img src='6.png' width=40% />\n",
    "\n",
    "### Solution\n",
    "\n",
    "The diode will clip the output when it's on, since it locks the voltage across the resistor to a constant value (by KVL). Assume the diode is OFF, and find determine the condition for this to be true:\n",
    "\n",
    "<img src='7.png' width=50% />\n",
    "\n",
    "For the diode to be off, we require $V_D = -I_{in} R_1 < V_{on}$ - so the diode turns on (ie starts clipping the output) at:\n",
    "\n",
    "$$ I_{in} = -\\frac {V_{on}} {R_1} $$\n",
    "\n",
    "<br>"
   ]
  },
  {
   "cell_type": "code",
   "execution_count": 21,
   "metadata": {
    "collapsed": false
   },
   "outputs": [
    {
     "name": "stdout",
     "output_type": "stream",
     "text": [
      "Output is clipped at an input current of: -0.114286 mA\n"
     ]
    }
   ],
   "source": [
    "I_0 = 2.5e-3   # A\n",
    "R_1 = 7e+3   # Ohms\n",
    "V_B = 4.6   # V\n",
    "V_on = 0.8   # V\n",
    "\n",
    "I_clip = -V_on / R_1\n",
    "\n",
    "print('Output is clipped at an input current of: %g mA' % (I_clip * 1e+3))"
   ]
  },
  {
   "cell_type": "markdown",
   "metadata": {},
   "source": [
    "## Question 9\n",
    "\n",
    "With $R_1 = 1 \\textrm {kOhm}$ and $V_{on} = 0.76 \\: \\textrm{V}$, what should the value of $V_{B1}$ be in volts so that the desired slope $S_1 = S_2 = 0.6$? \n",
    "\n",
    "<img src='8.png' width=60% />\n",
    "\n",
    "<img src='10.png' width=50% />\n",
    "\n",
    "### Solution\n",
    "\n",
    "Consider the region $V_{in} > 2 \\: \\textrm {V}$, so that D1 is ON and D2 is OFF. \n",
    "\n",
    "<img src='11.png' width=50% />\n",
    "\n",
    "Then we have that $V_{out} = V_{on} + V_{B_1} + V_{R_2}$. Set $V_{in} = 3$, so that $V_{out} = 2 + S_2$. Using nodal analysis we see:\n",
    "\n",
    "<img src='12.png' width=60% />\n",
    "\n",
    "The current is given by $i = \\frac {1 - S_2} {R_1}$, so that:\n",
    "\n",
    "$$ V_{out} = 2 + S_2 = V_{on} + V_{B_1} + \\frac {R_2(1 - S_2)} {R_1} $$\n",
    "\n",
    "Rearranging for $V_{B_1}$ gives: \n",
    "\n",
    "$$ V_{B_1} = 2 + S_2 - V_{on} - \\frac {R_2(1 - S_2)} {R_1} $$\n",
    "\n",
    "We don't know $R_2$ which is problematic - but we can pick another point on the graph, say $V_{in} = 4$ (so that $V_{out} = 2 + 2S_2$) to get a system of linear equations in $V_{B_1}$ and $R_2$. In this case, $i = \\frac {2 - 2S_2} {R_1}$ so that:\n",
    "\n",
    "$$ V_{B_1} = 2 + S_2 - V_{on} - \\frac {R_2(2 - 2S_2)} {R_1} $$\n",
    "\n",
    "We can rewrite the equations as:\n",
    "\n",
    "$$ V_{B_1} + \\frac {(1 - S_2)} {R_1} R_2 = 2 + S_2 - V_{on} $$\n",
    "\n",
    "$$ V_{B_1} + \\frac {(2 - 2S_2)} {R_1} R_2 = 2 + 2S_2 - V_{on} $$\n",
    "\n",
    "Which is a linear system in $V_{B_1}$ and $R_2$ that can be solved with Python.\n",
    "<br><br><br>"
   ]
  },
  {
   "cell_type": "code",
   "execution_count": 22,
   "metadata": {
    "collapsed": false,
    "scrolled": true
   },
   "outputs": [
    {
     "name": "stdout",
     "output_type": "stream",
     "text": [
      "V_B1 is: 1.31 V, and R_2 is: 1000 Ohms\n"
     ]
    }
   ],
   "source": [
    "S_2 = 0.5\n",
    "R_1 = 1e+3   # Ohms\n",
    "V_on = 0.69   # V\n",
    "\n",
    "V_B1_coef1 = 1\n",
    "V_B1_coef2 = 1\n",
    "V_R2_coef1 = (1 - S_2) / R_1\n",
    "V_R2_coef2 = (2 - 2*S_2) / R_1\n",
    "const1 = 2 + S_2 - V_on\n",
    "const2 = 2 + 2 * S_2 - V_on\n",
    "\n",
    "# construct coefficient matrix and vector\n",
    "A = np.array([[V_B1_coef1, V_R2_coef1], [V_B1_coef2, V_R2_coef2]])\n",
    "b = np.array([const1, const2])\n",
    "\n",
    "V_B1, R_2 = np.linalg.solve(A, b)\n",
    "\n",
    "print('V_B1 is: %g V, and R_2 is: %g Ohms' % (V_B1, R_2))"
   ]
  },
  {
   "cell_type": "markdown",
   "metadata": {},
   "source": [
    "## Question 10\n",
    "\n",
    "This is exactly the same as Question 9, but now we need to find $R_2$ - which we needed to find to find $V_{B_1}$ anyway - so just repeat the process with the appropriate values. **use kOhms for answer!**"
   ]
  },
  {
   "cell_type": "code",
   "execution_count": 23,
   "metadata": {
    "collapsed": false
   },
   "outputs": [
    {
     "name": "stdout",
     "output_type": "stream",
     "text": [
      "V_B1 is: 1.29 V, and R_2 is: 724.138 Ohms\n"
     ]
    }
   ],
   "source": [
    "S_2 = 0.42\n",
    "R_1 = 1e+3   # Ohms\n",
    "V_on = 0.71   # V\n",
    "\n",
    "V_B1_coef1 = 1\n",
    "V_B1_coef2 = 1\n",
    "V_R2_coef1 = (1 - S_2) / R_1\n",
    "V_R2_coef2 = (2 - 2*S_2) / R_1\n",
    "const1 = 2 + S_2 - V_on\n",
    "const2 = 2 + 2 * S_2 - V_on\n",
    "\n",
    "A = np.array([[V_B1_coef1, V_R2_coef1], [V_B1_coef2, V_R2_coef2]])\n",
    "b = np.array([const1, const2])\n",
    "\n",
    "V_B1, R_2 = np.linalg.solve(A, b)\n",
    "\n",
    "print('V_B1 is: %g V, and R_2 is: %g Ohms' % (V_B1, R_2))"
   ]
  },
  {
   "cell_type": "markdown",
   "metadata": {},
   "source": [
    "## Question 11\n",
    "\n",
    "Consider the low frequency, small signal behaviour of the circuit shown. Assume $V_{on} = 0.6 \\: \\textrm{V}$ and $R = 36 \\: \\textrm {Ohms}$. What is the small-signal peak output voltage?\n",
    "\n",
    "First, do the DC analysis to find the current $I_D$ through the diode (using the constant voltage model). The capacitor becomes an open circuit, so the current is given by:\n",
    "\n",
    "$$ I_D = \\frac {12 - V_{on}} {10000} $$\n",
    "\n",
    "The small signal resistance for the diode is then given by \n",
    "\n",
    "$$r_d = \\frac {26} {I_D}$$\n",
    "\n",
    "Using small signal analysis, the capacitor becomes a short, so we get:\n",
    "\n",
    "<img src='13.png' width=50% />\n",
    "\n",
    "The current is then $i = \\frac {V_{in}} {R + r_d}$ so that the output voltage is:\n",
    "\n",
    "$$ V_{out} = \\frac {V_{in}} {R + r_d} r_d $$"
   ]
  },
  {
   "cell_type": "code",
   "execution_count": 32,
   "metadata": {
    "collapsed": false
   },
   "outputs": [
    {
     "name": "stdout",
     "output_type": "stream",
     "text": [
      "output voltage: 26.0312 mA\n"
     ]
    }
   ],
   "source": [
    "V_in = 0.05   # V\n",
    "V_on = 0.6   # V\n",
    "R = 21   # Ohms\n",
    "I_D = (12 - V_on) / 10000\n",
    "\n",
    "r_d = 26 / (I_D*1e+3) \n",
    "\n",
    "i = V_in / (R + r_d)\n",
    "V_out = V_in - i * R\n",
    "\n",
    "print('output voltage: %g mA' % (V_out * 1e+3))"
   ]
  }
 ],
 "metadata": {
  "kernelspec": {
   "display_name": "Python 3",
   "language": "python",
   "name": "python3"
  },
  "language_info": {
   "codemirror_mode": {
    "name": "ipython",
    "version": 3
   },
   "file_extension": ".py",
   "mimetype": "text/x-python",
   "name": "python",
   "nbconvert_exporter": "python",
   "pygments_lexer": "ipython3",
   "version": "3.4.1"
  }
 },
 "nbformat": 4,
 "nbformat_minor": 0
}
