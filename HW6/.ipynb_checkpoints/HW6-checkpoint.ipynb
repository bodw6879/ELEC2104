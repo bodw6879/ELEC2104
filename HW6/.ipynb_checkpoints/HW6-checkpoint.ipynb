{
 "cells": [
  {
   "cell_type": "code",
   "execution_count": 1,
   "metadata": {
    "collapsed": true
   },
   "outputs": [],
   "source": [
    "import numpy as np"
   ]
  },
  {
   "cell_type": "markdown",
   "metadata": {},
   "source": [
    "# ELEC2104 Homework 6"
   ]
  },
  {
   "cell_type": "markdown",
   "metadata": {},
   "source": [
    "For the transistor below, $I_{FS} = I_{RS} = I_S = 5\\times10^{16} \\textrm{ A}$, $\\beta_F = 75$, $\\beta_R = 1$. Assume $V_T = 0.025 \\textrm{ V}$.\n",
    "\n",
    "<img src='1.png' />"
   ]
  },
  {
   "cell_type": "code",
   "execution_count": 2,
   "metadata": {
    "collapsed": true
   },
   "outputs": [],
   "source": [
    "# Constants for Q1 to Q6\n",
    "I_S = 5e-16   # A\n",
    "beta_F = 75\n",
    "beta_R = 1\n",
    "V_T = 0.025   # V"
   ]
  },
  {
   "cell_type": "markdown",
   "metadata": {},
   "source": [
    "## Question 1\n",
    "\n",
    "If $I_E = 300 \\textrm { uA}$, what is $I_C$? $V_C < V_B < V_E$. Answer in $\\textrm {uA}$.\n",
    "\n",
    "### Solution\n",
    "\n",
    "Because $V_C < V_B < V_E$, the transistor is operating in the forward active region. \n",
    "\n",
    "We have: \n",
    "\n",
    "$$I_E = I_C + I_B \\implies I_C = I_E - I_B = I_E - \\frac {I_C} {\\beta_F}$$\n",
    "\n",
    "So:\n",
    "\n",
    "$$ I_C = \\frac {\\beta_F} {\\beta_F + 1} I_E $$"
   ]
  },
  {
   "cell_type": "code",
   "execution_count": 3,
   "metadata": {
    "collapsed": false,
    "scrolled": true
   },
   "outputs": [
    {
     "name": "stdout",
     "output_type": "stream",
     "text": [
      "Collector current is: 296.053 uA\n"
     ]
    }
   ],
   "source": [
    "I_E = 300e-6   # A\n",
    "\n",
    "I_C = (beta_F / (beta_F + 1)) * I_E\n",
    "\n",
    "print('Collector current is: %g uA' % (I_C * 1e+6))"
   ]
  },
  {
   "cell_type": "markdown",
   "metadata": {},
   "source": [
    "## Question 2\n",
    "\n",
    "What is $I_B$? (same scenario as above)\n",
    "\n",
    "### Solution\n",
    "\n",
    "By KCL, $I_B = I_E - I_C$:"
   ]
  },
  {
   "cell_type": "code",
   "execution_count": 4,
   "metadata": {
    "collapsed": false
   },
   "outputs": [
    {
     "name": "stdout",
     "output_type": "stream",
     "text": [
      "Base current is: 3.94737 uA\n"
     ]
    }
   ],
   "source": [
    "I_B = I_E - I_C\n",
    "\n",
    "print('Base current is: %g uA' % (I_B * 1e+6))"
   ]
  },
  {
   "cell_type": "markdown",
   "metadata": {},
   "source": [
    "## Question 3\n",
    "\n",
    "If $I_E = 300 \\textrm { uA}$, what is $V_{EB}$? Answer in $\\textrm{V}$.\n",
    "\n",
    "### Solution\n",
    "\n",
    "Using:\n",
    "\n",
    "$$ I_C = I_S [ \\exp( \\frac {V_{EB}} {V_T} ) - 1 ] $$\n",
    "\n",
    "Rearranging for $V_{EB}$:\n",
    "\n",
    "$$ \\ln( \\frac {I_C} {I_S} + 1 ) = \\frac {V_{EB}} {V_T} $$\n",
    "\n",
    "$$ V_{EB} = V_T \\ln( \\frac {I_C} {I_S} + 1 ) $$"
   ]
  },
  {
   "cell_type": "code",
   "execution_count": 5,
   "metadata": {
    "collapsed": false
   },
   "outputs": [
    {
     "name": "stdout",
     "output_type": "stream",
     "text": [
      "Emitter-Base voltage is: 0.677674 V\n"
     ]
    }
   ],
   "source": [
    "V_EB = V_T * np.log(I_C / I_S + 1)\n",
    "\n",
    "print('Emitter-Base voltage is: %g V' % V_EB)"
   ]
  },
  {
   "cell_type": "markdown",
   "metadata": {},
   "source": [
    "## Question 4\n",
    "\n",
    "If $I_C = -300 \\textrm{ uA}$, what is $I_E$? $V_E < V_B < V_C$. Answer in $\\textrm{uA}$.\n",
    "\n",
    "### Solution\n",
    "\n",
    "Since $V_E < V_B < V_C$, and the collector current is negative, the transistor is operating in the reverse active region. The direction of the collector-emitter current is switched (the base current stays in the same direction) so that we have:\n",
    "\n",
    "$$ I_B = \\frac {-I_E} {\\beta_R} $$\n",
    "\n",
    "So:\n",
    "\n",
    "$$ I_E = \\frac {-I_E} {\\beta_R} + I_C \\implies I_E = \\frac {I_C} {1 + \\frac {1} {\\beta_R}} $$"
   ]
  },
  {
   "cell_type": "code",
   "execution_count": 6,
   "metadata": {
    "collapsed": false
   },
   "outputs": [
    {
     "name": "stdout",
     "output_type": "stream",
     "text": [
      "Emitter current is: -150 uA\n"
     ]
    }
   ],
   "source": [
    "I_C = -300e-6   # A\n",
    "\n",
    "I_E = I_C / (1 + 1/beta_R)   # A\n",
    "\n",
    "print('Emitter current is: %g uA' % (I_E * 1e+6))"
   ]
  },
  {
   "cell_type": "markdown",
   "metadata": {},
   "source": [
    "## Question 5\n",
    "\n",
    "What is $I_B$? (same scenario as above) Answer in $\\textrm {uA}$."
   ]
  },
  {
   "cell_type": "code",
   "execution_count": 7,
   "metadata": {
    "collapsed": false
   },
   "outputs": [
    {
     "name": "stdout",
     "output_type": "stream",
     "text": [
      "Base current is: 150 uA\n"
     ]
    }
   ],
   "source": [
    "I_B = -I_E / beta_R\n",
    "\n",
    "print('Base current is: %g uA' % (I_B * 1e+6))"
   ]
  },
  {
   "cell_type": "markdown",
   "metadata": {},
   "source": [
    "## Question 6\n",
    "\n",
    "If $I_C = -300 \\textrm { uA}$, what is $V_{CB}$? Answer in $\\textrm {V}$.\n",
    "\n",
    "### Solution\n",
    "\n",
    "In reverse active mode, \n",
    "\n",
    "$$ I_E = -I_S [\\exp( \\frac {V_{CB}} {V_T}) - 1] $$\n",
    "\n",
    "Rearranging for $V_{BC}$ we get\n",
    "\n",
    "$$ V_{CB} = V_T \\ln( 1 - \\frac {I_E} {I_S}) $$\n",
    "\n",
    "(In the lecture slides, the reverse equations are given for NPN, in which the voltage is actually $V_{BC}$. For PNP transistors, the equations are exactly the same, but with the directions of the voltages and currents switched around - so $V_{BC}$ becomes $V_{CB}$.)"
   ]
  },
  {
   "cell_type": "code",
   "execution_count": 8,
   "metadata": {
    "collapsed": false
   },
   "outputs": [
    {
     "name": "stdout",
     "output_type": "stream",
     "text": [
      "Collector-Base voltage is: 0.660676 V\n"
     ]
    }
   ],
   "source": [
    "V_CB = V_T * np.log(1 - I_E / I_S)\n",
    "\n",
    "print('Collector-Base voltage is: %g V' % V_CB)"
   ]
  },
  {
   "cell_type": "markdown",
   "metadata": {},
   "source": [
    "## Question 7\n",
    "\n",
    "Since $V_{CE} = 0$, the transistor is in the saturation region:\n",
    "\n",
    "<img src='3.png' width=50% />"
   ]
  },
  {
   "cell_type": "markdown",
   "metadata": {},
   "source": [
    "## Question 8\n",
    "\n",
    "Let $I_{S1} = 2I_{S2} = 5 \\times 10^{-16} \\textrm{ A}$. Assume $V_B$ is chosen so that $I_X = 1.2 \\textrm{ mA}$. What value of $R_C$ places the transistors at the edge of the (forward) active mode? Use $V_T = 26 \\textrm { mV}$. Specify your answer in Ohms to the nearest integer.\n",
    "\n",
    "<img src='2.png' />"
   ]
  },
  {
   "cell_type": "markdown",
   "metadata": {},
   "source": [
    "### Solution\n",
    "\n",
    "The transistor is operating in forward active mode if and only if $V_E < V_B < V_C$ and $I_C > 0$. The second condition is given as true, and $V_E = 0$, so the transistors will be on the edge of saturation when $V_B = V_C$. We have:\n",
    "\n",
    "$$ I_{C1} = I_S [ \\exp( \\frac {V_B} {V_T} ) - 1 ] $$\n",
    "\n",
    "$$ I_{C2} = 0.5I_S [ \\exp( \\frac {V_B} {V_T} ) - 1 ] = 0.5I_{C1} $$\n",
    "\n",
    "So by KCL, $I_{C1} = I_X / 1.5$. So:\n",
    "\n",
    "$$ \\frac {I_X} {1.5} = I_S [ \\exp( \\frac {V_B} {V_T}) - 1 ] $$\n",
    "\n",
    "$$ V_B = V_T \\ln( \\frac {I_X} {1.5I_S} + 1 ) $$\n",
    "\n",
    "At the edge of saturation, $V_B = V_C$, so:\n",
    "\n",
    "$$ V_{CC} - I_X R_C = V_B \\implies R_C = \\frac {V_{CC} - V_B} {I_X} $$"
   ]
  },
  {
   "cell_type": "code",
   "execution_count": 9,
   "metadata": {
    "collapsed": false
   },
   "outputs": [
    {
     "name": "stdout",
     "output_type": "stream",
     "text": [
      "The value of R_C at the edge of saturation is: 1474.48 Ohms\n"
     ]
    }
   ],
   "source": [
    "V_T = 26e-3   # V\n",
    "I_X = 1.2e-3   # A\n",
    "I_S = 5e-16   # A\n",
    "I_C = I_X / 3\n",
    "V_CC = 2.5   # V\n",
    "\n",
    "V_B = V_T * np.log(I_X / (1.5 * I_S) + 1)\n",
    "\n",
    "R_C = (V_CC - V_B) / I_X\n",
    "\n",
    "print('The value of R_C at the edge of saturation is: %g Ohms' % R_C)"
   ]
  },
  {
   "cell_type": "markdown",
   "metadata": {},
   "source": [
    "## Question 9\n",
    "\n",
    "Assume $R_C = 3.2 \\textrm{ k}\\Omega$ and $V_T = 26 \\textrm { mV}$. Determine the value of $I_S$ for $Q_1$ such that it operates at the edge of the active mode. Answer in units of $10^{-16} \\textrm{ A}$. \n",
    "\n",
    "<img src='4.png' />"
   ]
  },
  {
   "cell_type": "markdown",
   "metadata": {},
   "source": [
    "### Solution\n",
    "\n",
    "Set the ground below $R_C$. $V_C = I_C R_C$, and at the edge of saturation we have $V_C = V_B$, so $I_C = \\frac {V_B} {R_C}$. Then:\n",
    "\n",
    "$$ \\frac {V_B} {R_C} = I_S [ \\exp( \\frac {V_{EB}} {V_T} ) - 1 ] \\implies I_S = \\frac {V_B} {R_C [ \\exp( \\frac {V_{EB}} {V_T} ) - 1 ] } $$"
   ]
  },
  {
   "cell_type": "code",
   "execution_count": 10,
   "metadata": {
    "collapsed": false
   },
   "outputs": [
    {
     "name": "stdout",
     "output_type": "stream",
     "text": [
      "I_S in units of 10e-16 A is: 0.130081\n"
     ]
    }
   ],
   "source": [
    "V_T = 26e-3   # V\n",
    "R_C = 4e+3   # Ohms\n",
    "V_B = 1.2   # V\n",
    "V_CC = 2   # V\n",
    "\n",
    "V_EB = V_CC - V_B\n",
    "\n",
    "I_S = V_B / (R_C * ( np.exp(V_EB / V_T) - 1 ))\n",
    "\n",
    "print('I_S in units of 10e-16 A is: %g' % (I_S * 1e+16))"
   ]
  }
 ],
 "metadata": {
  "kernelspec": {
   "display_name": "Python 3",
   "language": "python",
   "name": "python3"
  },
  "language_info": {
   "codemirror_mode": {
    "name": "ipython",
    "version": 3
   },
   "file_extension": ".py",
   "mimetype": "text/x-python",
   "name": "python",
   "nbconvert_exporter": "python",
   "pygments_lexer": "ipython3",
   "version": "3.4.1"
  }
 },
 "nbformat": 4,
 "nbformat_minor": 0
}
