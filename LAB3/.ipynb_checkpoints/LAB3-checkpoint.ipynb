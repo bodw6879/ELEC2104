{
 "cells": [
  {
   "cell_type": "code",
   "execution_count": 4,
   "metadata": {
    "collapsed": true
   },
   "outputs": [],
   "source": [
    "import numpy as np\n",
    "import matplotlib.pyplot as plt\n",
    "import mpld3\n",
    "import pandas as pd\n",
    "import scipy.stats as stats\n",
    "import scipy.optimize as opt\n",
    "import urllib\n",
    "\n",
    "%matplotlib inline\n",
    "mpld3.enable_notebook()"
   ]
  },
  {
   "cell_type": "code",
   "execution_count": 6,
   "metadata": {
    "collapsed": false
   },
   "outputs": [
    {
     "data": {
      "text/plain": [
       "180.0"
      ]
     },
     "execution_count": 6,
     "metadata": {},
     "output_type": "execute_result"
    }
   ],
   "source": [
    "10.8e-3 / 60e-6"
   ]
  },
  {
   "cell_type": "code",
   "execution_count": null,
   "metadata": {
    "collapsed": true
   },
   "outputs": [],
   "source": []
  },
  {
   "cell_type": "raw",
   "metadata": {},
   "source": [
    "1.58/330"
   ]
  },
  {
   "cell_type": "markdown",
   "metadata": {},
   "source": [
    "# ELEC2104 Lab 3 - Bipolar Junction Transistors\n",
    "\n",
    "## Objectives\n",
    "\n",
    "To obtain an understanding of the large-signal operation of bipolar junction transistors. \n",
    "\n",
    "## Part 1: Forced $I_B$ Output Characteristics\n",
    "\n",
    "The terminals for the 2N3904 NPN BJT are:\n",
    "\n",
    "<img src='1.png' width=30% />\n",
    "\n",
    "Connect the collector to DUT+, the emitter to DUT-, and the base to the BASE terminal. Vary the values of $V_C$ and $I_B$ so that multiple IV curves are shown. Label the regions. \n",
    "\n",
    "For the base currents $30 \\: \\mu\\textrm{A}$ and $60 \\: \\mu\\textrm{A}$, find the value of $\\beta = I_C / I_B$. \n",
    "\n",
    "<br>\n",
    "\n",
    "## Part 2: Voltage Transfer Curve of a BJT Inverter\n",
    "\n",
    "Construct:\n",
    "\n",
    "<img src='3.png' width=40% />\n",
    "\n",
    "\n",
    "The transfer function graph should look something like this:\n",
    "\n",
    "<img src='2.png' width=80% />\n",
    "\n",
    "The output voltage starts to drop at an input voltage of around $0.7 \\textrm{ V}$, which coincides with the turn on voltage of a silicon PN junction (as used in the transistor used).\n",
    "\n",
    "The voltage across R2 should look something like:\n",
    "\n",
    "<img src='4.png' width=80% />\n",
    "\n",
    "The voltage across R1 should look something like:\n",
    "\n",
    "<img src='5.png' width=80% />\n",
    "\n",
    "The voltage between the base and the emitter (ie $V_{BE}$) should look something like:\n",
    "\n",
    "<img src='6.png' width=80% />\n",
    "\n",
    "\n",
    "## Part 3: Transistor as a Switch\n",
    "\n"
   ]
  },
  {
   "cell_type": "markdown",
   "metadata": {},
   "source": [
    "## Part 4: Estimating the Early Voltage of the BJT"
   ]
  },
  {
   "cell_type": "code",
   "execution_count": 3,
   "metadata": {
    "collapsed": false
   },
   "outputs": [
    {
     "ename": "NameError",
     "evalue": "name 'urllib' is not defined",
     "output_type": "error",
     "traceback": [
      "\u001b[1;31m---------------------------------------------------------------------------\u001b[0m",
      "\u001b[1;31mNameError\u001b[0m                                 Traceback (most recent call last)",
      "\u001b[1;32m<ipython-input-3-3132a8b481cf>\u001b[0m in \u001b[0;36m<module>\u001b[1;34m()\u001b[0m\n\u001b[0;32m      1\u001b[0m \u001b[1;31m# Get the logged data (after logging and uploading to pastebin or similar)\u001b[0m\u001b[1;33m\u001b[0m\u001b[1;33m\u001b[0m\u001b[0m\n\u001b[1;32m----> 2\u001b[1;33m \u001b[0murllib\u001b[0m\u001b[1;33m.\u001b[0m\u001b[0mrequest\u001b[0m\u001b[1;33m.\u001b[0m\u001b[0murlretrieve\u001b[0m\u001b[1;33m(\u001b[0m\u001b[1;34m'URL GOES HERE'\u001b[0m\u001b[1;33m,\u001b[0m \u001b[1;34m'bjt_data.csv'\u001b[0m\u001b[1;33m)\u001b[0m\u001b[1;33m\u001b[0m\u001b[0m\n\u001b[0m\u001b[0;32m      3\u001b[0m bjt_data = pd.read_csv('bjt_data.csv', names=['v1', 'i1', 'v2', 'i2', 'v3', 'i3', 'v4', 'i4', 'v5', 'i5'], \n\u001b[0;32m      4\u001b[0m                        index_col=False, delimiter='\\t')\n\u001b[0;32m      5\u001b[0m \u001b[1;33m\u001b[0m\u001b[0m\n",
      "\u001b[1;31mNameError\u001b[0m: name 'urllib' is not defined"
     ]
    }
   ],
   "source": [
    "# Get the logged data (after logging and uploading to pastebin or similar)\n",
    "urllib.request.urlretrieve('http://pastebin.com/raw.php?i=mKSuECKQ', 'bjt_data1.csv')\n",
    "urllib.request.urlretrieve('http://pastebin.com/raw.php?i=Nna4j6dY', 'bjt_data2.csv')\n",
    "urllib.request.urlretrieve('http://pastebin.com/raw.php?i=CdKJEhEJ', 'bjt_data3.csv')\n",
    "urllib.request.urlretrieve('http://pastebin.com/raw.php?i=rJ0DuqUj', 'bjt_data4.csv')\n",
    "urllib.request.urlretrieve('http://pastebin.com/raw.php?i=wKqEgG4W', 'bjt_data5.csv')\n",
    "\n",
    "bjt_data1 = pd.read_csv('bjt_data1.csv', names=['v1', 'i1'], index_col=False, delimiter='\\t')\n",
    "bjt_data2 = pd.read_csv('bjt_data2.csv', names=['v2', 'i2'], index_col=False, delimiter='\\t')\n",
    "bjt_data3 = pd.read_csv('bjt_data3.csv', names=['v3', 'i3'], index_col=False, delimiter='\\t')\n",
    "bjt_data4 = pd.read_csv('bjt_data4.csv', names=['v4', 'i4'], index_col=False, delimiter='\\t')\n",
    "bjt_data5 = pd.read_csv('bjt_data5.csv', names=['v5', 'i5'], index_col=False, delimiter='\\t')\n",
    "\n",
    "\n",
    "bjt_data = pd.read_csv('bjt_data.csv', names=['v1', 'i1', 'v2', 'i2', 'v3', 'i3', 'v4', 'i4', 'v5', 'i5'], \n",
    "                       index_col=False, delimiter='\\t')\n",
    "\n",
    "# do linear regression on the lines\n",
    "# return a function for the fit\n",
    "def bjt_linear_fit(x, y):\n",
    "    slope, intercept, *_ = stats.linregress(x, y)\n",
    "    def bjt_func(x):\n",
    "        return slope * x + intercept\n",
    "    return bjt_func\n",
    "\n",
    "# make the fits\n",
    "fits = []\n",
    "for i in range(5):\n",
    "    fits.append(bjt_linear_fit(bjt_data['v' + str(i + 1)].values, bjt_data['i' + str(i + 1)].values))\n",
    "\n",
    "# now plot the fits AND the data, and find the Early voltage\n",
    "x = np.linspace(-100, 10, 1000)\n",
    "\n",
    "plt.figure(figsize=(12, 8))\n",
    "\n",
    "# plot the data \n",
    "for i in range(5):\n",
    "    xi = bjt_data['v' + str(i + 1)].values\n",
    "    yi = bjt_data['i' + str(i + 1)].values\n",
    "    plt.plot(xi, yi, 'o')\n",
    "    plt.plot(x, fits[i](x))\n",
    "\n",
    "plt.title('Finding the Early Voltage')\n",
    "plt.xlabel('Voltage (V)')\n",
    "plt.ylabel('Collector Current (A)')\n",
    "plt.grid(b=True)\n",
    "mpld3.plugins.connect(fig, mpld3.plugins.MousePosition())\n",
    "    \n",
    "plt.show()"
   ]
  },
  {
   "cell_type": "code",
   "execution_count": null,
   "metadata": {
    "collapsed": true
   },
   "outputs": [],
   "source": []
  }
 ],
 "metadata": {
  "kernelspec": {
   "display_name": "Python 3",
   "language": "python",
   "name": "python3"
  },
  "language_info": {
   "codemirror_mode": {
    "name": "ipython",
    "version": 3
   },
   "file_extension": ".py",
   "mimetype": "text/x-python",
   "name": "python",
   "nbconvert_exporter": "python",
   "pygments_lexer": "ipython3",
   "version": "3.4.1"
  }
 },
 "nbformat": 4,
 "nbformat_minor": 0
}
